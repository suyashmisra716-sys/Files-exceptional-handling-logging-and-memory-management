{
  "nbformat": 4,
  "nbformat_minor": 0,
  "metadata": {
    "colab": {
      "provenance": []
    },
    "kernelspec": {
      "name": "python3",
      "display_name": "Python 3"
    },
    "language_info": {
      "name": "python"
    }
  },
  "cells": [
    {
      "cell_type": "markdown",
      "source": [
        "**Files,exceptional handling,logging and memory management**"
      ],
      "metadata": {
        "id": "UbdQ1NaUvDvE"
      }
    },
    {
      "cell_type": "markdown",
      "source": [
        "Q1.What is the difference between interpreted and compiled languages?\n",
        "\n",
        "-  Compiled Languages\n",
        "\n",
        "Translation Process: The source code is translated into machine code or an intermediate bytecode before the program is run.\n",
        "\n",
        "Execution: The compiled code can then be run directly by the computer's processor.\n",
        "\n",
        "Performance: Generally faster, as the translation work is done once and for all during compilation.\n",
        "\n",
        "Examples: C, C++, Go.\n",
        "\n",
        "Interpreted Languages\n",
        "\n",
        "Translation Process: An interpreter reads and executes the source code instruction by instruction at runtime.\n",
        "\n",
        "Execution: Each line or statement is translated and executed immediately.\n",
        "\n",
        "Performance: Slower than compiled languages because of the runtime translation overhead.\n",
        "\n",
        "Flexibility: Easier to debug and make quick modifications to the code without a separate compilation step.\n",
        "\n",
        "Examples: Python, JavaScript, Ruby."
      ],
      "metadata": {
        "id": "CyG8dSBCvUr5"
      }
    },
    {
      "cell_type": "markdown",
      "source": [
        "Q2.What is exception handling in Python?\n",
        "\n",
        "-  Exception handling in Python is a mechanism that allows programs to gracefully manage runtime errors or unexpected events, known as exceptions, without crashing abruptly. Instead of terminating the program when an error occurs, exception handling provides a way to detect the problem, respond to it, and potentially continue program execution."
      ],
      "metadata": {
        "id": "N4G3bw6MwIcS"
      }
    },
    {
      "cell_type": "markdown",
      "source": [
        "Q3.What is the purpose of the finally block in exception handling?\n",
        "\n",
        "-  The primary purpose of a finally block is to guarantee that a specific block of code executes regardless of whether an exception was thrown and caught within the try block, or if the try or catch blocks exited by return, break, or continue statements. It is most often used for resource cleanup, such as closing file streams, database connections, or releasing other allocated resources, to prevent leaks and ensure a consistent program state."
      ],
      "metadata": {
        "id": "xouVSboGwWAb"
      }
    },
    {
      "cell_type": "markdown",
      "source": [
        "Q4.What is logging in Python?\n",
        "\n",
        "-  Logging in Python is the process of systematically recording events that occur during the execution of a program. It involves capturing and storing information about various occurrences, such as errors, warnings, informational messages, and debugging details. This information can then be used for debugging, monitoring, performance analysis, and understanding the application's behavior."
      ],
      "metadata": {
        "id": "QX4fEUoswink"
      }
    },
    {
      "cell_type": "markdown",
      "source": [
        "Q5.What is the significance of the __del__ method in Python?\n",
        "\n",
        "-  The __del__ method in Python, often referred to as a destructor, holds significance primarily in resource management and cleanup. It is a special method that Python calls when an object is about to be destroyed, specifically when its reference count drops to zero and the garbage collector reclaims its memory."
      ],
      "metadata": {
        "id": "vSTei8CmwyXV"
      }
    },
    {
      "cell_type": "markdown",
      "source": [
        "Q6.What is the difference between import and from ... import in Python?\n",
        "\n",
        "-  In Python, both import and from ... import statements are used to bring modules or specific components from modules into the current namespace, but they differ in how they manage the imported objects and their accessibility.\n",
        "\n",
        "1. import module_name:\n",
        "\n",
        "This statement imports the entire module_name and makes it available as a module object in the current namespace.\n",
        "\n",
        "To access any function, class, or variable within the module, you must prefix it with the module name and a dot (e.g., module_name.function_name(), module_name.variable).\n",
        "\n",
        "2. from module_name import object_name:\n",
        "\n",
        "This statement imports only a specific object_name (function, class, or variable) from module_name directly into the current namespace.\n",
        "\n",
        "You can then use object_name directly without needing to prefix it with the module name."
      ],
      "metadata": {
        "id": "Axkpu83XxGym"
      }
    },
    {
      "cell_type": "markdown",
      "source": [
        "Q7.How can you handle multiple exceptions in Python?\n",
        "\n",
        "-  In Python, multiple exceptions can be handled using try-except blocks in a few ways:\n",
        "\n",
        "1. Handling Multiple Exceptions in a Single except Block:\n",
        "\n",
        "You can catch several types of exceptions with a single except block by providing them as a tuple.\n",
        "This is useful when the handling logic for these exceptions is the same.\n",
        "\n",
        "2. Handling Multiple Exceptions with Separate except Blocks:\n",
        "\n",
        "If different exceptions require distinct handling logic, you can use separate except blocks for each exception type. The first except block that matches the raised exception will be executed.\n",
        "\n",
        "3. Catching a Base Exception Class:\n",
        "\n",
        "You can catch a base exception class, such as Exception, to handle any type of exception that inherits from it. This is a broad approach and should be used with caution, as it can hide specific errors. It's often used as a fallback after more specific except blocks."
      ],
      "metadata": {
        "id": "6Eeslc1kvRM8"
      }
    },
    {
      "cell_type": "markdown",
      "source": [
        "Q8.What is the purpose of the with statement when handling files in Python?\n",
        "\n",
        "-  The primary purpose of the with statement when handling files in Python is to ensure automatic and safe resource management, specifically guaranteeing that files are properly closed after use, even if errors occur."
      ],
      "metadata": {
        "id": "p8lmEh_RzDLy"
      }
    },
    {
      "cell_type": "markdown",
      "source": [
        "Q9.What is the difference between multithreading and multiprocessing?\n",
        "\n",
        "-  Multithreading runs multiple threads within a single process, sharing the same memory space, which is efficient for I/O-bound tasks but can be limited by GIL issues in some languages like Python.\n",
        "\n",
        "Multiprocessing runs multiple independent processes, each with its own memory space, which provides true parallelism on multi-core systems and is ideal for CPU-bound tasks but involves higher overhead for communication and resource management.  "
      ],
      "metadata": {
        "id": "NNFtmrldzbSS"
      }
    },
    {
      "cell_type": "markdown",
      "source": [
        "Q10.What are the advantages of using logging in a program?\n",
        "\n",
        "-  Using logging in a program provides critical benefits, including faster debugging and troubleshooting by creating a trail of breadcrumbs, performance monitoring to identify bottlenecks and track trends, enhanced security through auditing and activity tracking, insights for business intelligence and user behavior analysis, support for root cause analysis, and helping to meet compliance and record-keeping requirements."
      ],
      "metadata": {
        "id": "w5duCJIaz3qd"
      }
    },
    {
      "cell_type": "markdown",
      "source": [
        "Q11.What is memory management in Python?\n",
        "\n",
        "-  Memory management in Python refers to the automatic process of allocating and deallocating memory for objects during program execution. Unlike languages like C or C++ where developers manually manage memory, Python handles this automatically, simplifying development and reducing the risk of memory-related errors."
      ],
      "metadata": {
        "id": "BK7imHMc0nF8"
      }
    },
    {
      "cell_type": "markdown",
      "source": [
        "Q12.What are the basic steps involved in exception handling in Python?\n",
        "\n",
        "-  Exception handling in Python primarily involves the use of try, except, else, and finally blocks to manage and respond to errors that occur during program execution."
      ],
      "metadata": {
        "id": "RRmOBa8Y0xcT"
      }
    },
    {
      "cell_type": "markdown",
      "source": [
        "Q13.Why is memory management important in Python?\n",
        "\n",
        "-  Memory management is important in Python for several reasons, despite its automatic nature:\n",
        "\n",
        "Performance Optimization: Understanding how Python manages memory (e.g., reference counting, garbage collection) allows developers to write more efficient code. This is particularly crucial in resource-intensive applications, such as those in data science or AI, where large datasets or complex computations can quickly consume significant memory. Efficient memory usage leads to faster processing and reduced resource consumption.\n",
        "\n",
        "Preventing Memory Leaks: While Python's garbage collector handles automatic deallocation, improper code can still lead to memory leaks. For example, circular references that aren't properly broken can prevent objects from being garbage collected, causing memory usage to continuously increase. Knowledge of memory management helps in identifying and resolving such issues.\n",
        "\n",
        "\n",
        "Debugging and Troubleshooting: When a Python program exhibits slow performance or unexpected memory growth, an understanding of memory management provides the tools to diagnose the problem. It helps in pinpointing why a program consumes excessive memory or why memory usage escalates over time, facilitating effective debugging.\n",
        "\n",
        "Resource Utilization: Efficient memory management ensures that applications utilize available memory optimally. This prevents situations where a program consumes more memory than necessary, potentially impacting other processes or even leading to system instability, especially in environments with limited resources.\n",
        "\n",
        "\n",
        "Scalability: For large-scale applications, efficient memory handling is essential for scalability. Understanding how Python allocates and deallocates memory allows developers to design systems that can handle increasing workloads without encountering memory-related bottlenecks."
      ],
      "metadata": {
        "id": "4AmVVRcp1csB"
      }
    },
    {
      "cell_type": "markdown",
      "source": [
        "Q14.What is the role of try and except in exception handling?\n",
        "\n",
        "-  Role of try:\n",
        "\n",
        "The try block encloses the code that is anticipated to potentially raise an exception. It serves as a designated area where the program attempts to execute a set of statements that might lead to an error. If no exception occurs within the try block, the code executes normally.\n",
        "\n",
        "Role of except:\n",
        "\n",
        "The except block immediately follows the try block and specifies how to handle a particular type of exception that might be raised within the try block. When an exception occurs in the try block, the program execution immediately jumps to the corresponding except block that is designed to handle that specific exception type. This allows for graceful error recovery and prevents the program from terminating unexpectedly."
      ],
      "metadata": {
        "id": "P79W1dRu2Dpu"
      }
    },
    {
      "cell_type": "markdown",
      "source": [
        "Q15.How does Python's garbage collection system work?\n",
        "\n",
        "-  Python's garbage collection combines the immediate deallocation of reference counting for most objects with a more sophisticated generational cyclic collector to handle complex scenarios like circular references, ensuring efficient memory management."
      ],
      "metadata": {
        "id": "er1m3rGO2n7h"
      }
    },
    {
      "cell_type": "markdown",
      "source": [
        "Q16.What is the purpose of the else block in exception handling?\n",
        "\n",
        "-  The purpose of the else block in exception handling (specifically in languages like Python) is to execute a block of code only if no exceptions were raised within the preceding try block."
      ],
      "metadata": {
        "id": "MlrJVrJ_7BqK"
      }
    },
    {
      "cell_type": "markdown",
      "source": [
        "Q17.What are the common logging levels in Python?\n",
        "\n",
        "-  Python's logging module defines several standard logging levels to indicate the severity of events. These levels, from lowest to highest severity, are:\n",
        "\n",
        "DEBUG (10): Detailed information, typically useful only when diagnosing problems.\n",
        "\n",
        "INFO (20): Confirmation that things are working as expected, providing general information about the program's execution.\n",
        "\n",
        "WARNING (30): An indication that something unexpected happened, or that a potential problem might occur in the near future, but the program can still continue. This is the default logging level.\n",
        "\n",
        "ERROR (40): A more serious problem that has prevented the software from performing some functions.\n",
        "\n",
        "CRITICAL (50): A severe error indicating that the program itself may be unable to continue running."
      ],
      "metadata": {
        "id": "eXI7GvZX7QKL"
      }
    },
    {
      "cell_type": "markdown",
      "source": [
        "Q18.What is the difference between os.fork() and multiprocessing in Python?\n",
        "\n",
        "-  Use os.fork() when you need fine-grained control over process creation on Unix-like systems and are comfortable managing the complexities of inherited state and IPC manually.\n",
        "\n",
        "Use the multiprocessing module for a more portable, higher-level, and generally safer way to achieve parallelism in Python, especially when dealing with complex data sharing or when portability across operating systems is a requirement. The multiprocessing module abstracts away many of the low-level details, providing a more user-friendly interface for concurrent programming."
      ],
      "metadata": {
        "id": "S9wl-_Le7u3A"
      }
    },
    {
      "cell_type": "markdown",
      "source": [
        "Q19.What is the importance of closing a file in Python?\n",
        "\n",
        "-  Closing a file in Python after completing operations is crucial for several reasons:\n",
        "\n",
        "Data Integrity and Persistence: When writing to a file, data is often buffered in memory before being physically written to the disk. Closing the file explicitly ensures that all buffered data is \"flushed\" and written to the file, preventing data loss or corruption in case of program termination or system issues.\n",
        "\n",
        "Resource Management: Files are system resources managed by the operating system. Keeping files open unnecessarily consumes these resources, including memory and file handles. Operating systems have limits on the number of open files a process can maintain. Failing to close files can lead to resource exhaustion, impacting application performance or even causing crashes due to an inability to open new files or other resources.\n",
        "\n",
        "Preventing Data Corruption and Conflicts: If a file remains open, other programs or processes might be prevented from accessing or modifying it, potentially leading to errors or data corruption if multiple entities attempt to interact with the file simultaneously. Closing the file releases the lock and allows other operations to proceed without conflict.\n",
        "\n",
        "Good Programming Practice: Explicitly closing files demonstrates responsible resource management and makes code more robust and predictable. While Python's garbage collector might eventually close files when their reference count drops to zero, relying on this implicit behavior is not recommended for critical operations or in scenarios where timely resource release is essential."
      ],
      "metadata": {
        "id": "SGYHssZb8KKv"
      }
    },
    {
      "cell_type": "markdown",
      "source": [
        "Q20.What is the difference between file.read() and file.readline() in Python?\n",
        "\n",
        "-  In Python, file.read() and file.readline() are both methods used to read data from a file, but they differ in the amount of data they retrieve:\n",
        "\n",
        "file.read():\n",
        "\n",
        "Reads the entire content of the file and returns it as a single string.\n",
        "\n",
        "Optionally, it can take an integer argument size to specify the number of characters (or bytes, depending on the file's mode and encoding) to read from the current position. If size is omitted or negative, it reads the entire file.\n",
        "\n",
        "file.readline():\n",
        "\n",
        "Reads a single line from the file and returns it as a string.\n",
        "\n",
        "It reads until it encounters a newline character (\\n) or reaches the end of the file. The newline character is included in the returned string.\n",
        "\n",
        "If the end of the file is reached and no characters are read, it returns an empty string."
      ],
      "metadata": {
        "id": "EoMvgare8qzN"
      }
    },
    {
      "cell_type": "markdown",
      "source": [
        "Q21.What is the logging module in Python used for?\n",
        "\n",
        "-  The logging module in Python is a built-in standard library module that provides a flexible and powerful framework for emitting log messages from Python programs. It is used to record events that occur during the execution of an application, providing valuable insights for debugging, monitoring, and analysis.\n"
      ],
      "metadata": {
        "id": "AxXCJZSR-ERc"
      }
    },
    {
      "cell_type": "markdown",
      "source": [
        "Q22.What is the os module in Python used for in file handling?\n",
        "\n",
        "-  The os module in Python provides a way to interact with the operating system, offering a wide range of functions for file and directory manipulation. It acts as a bridge between your Python program and the underlying file system, allowing you to perform various file handling tasks in a platform-independent manner."
      ],
      "metadata": {
        "id": "ixnRhNTW-e8v"
      }
    },
    {
      "cell_type": "markdown",
      "source": [
        "Q23.What are the challenges associated with memory management in Python?\n",
        "\n",
        "-  Python's automatic memory management, while simplifying development, presents certain challenges:\n",
        "\n",
        "Memory Leaks: While Python's garbage collector generally prevents leaks, certain scenarios can still lead to them. Cyclic references, where objects refer to each other in a way that prevents their reference counts from dropping to zero, can trap objects in memory. Additionally, improper handling of global variables or external resources (like file handles or database connections) can lead to unreleased memory or resources.\n",
        "\n",
        "Performance Overhead of Garbage Collection: The automatic garbage collection process, especially the cyclic garbage collector, involves periodic scans for unreachable objects. This process can introduce performance overhead, particularly in real-time applications or those with high memory churn, as it consumes CPU cycles to identify and deallocate unused memory.\n",
        "\n",
        "Memory Fragmentation: Repeated allocation and deallocation of memory blocks of varying sizes can lead to memory fragmentation. This occurs when free memory is scattered in small, non-contiguous blocks, making it difficult to allocate larger contiguous blocks even if the total available memory is sufficient. This can impact the efficiency of memory allocation.\n",
        "\n",
        "Lack of Fine-Grained Control: Python's memory management is largely automatic, offering less manual control compared to languages like C or C++. Developers cannot explicitly deallocate memory for individual objects, which can be a limitation in highly performance-critical applications or when optimizing for specific memory usage patterns.\n",
        "\n",
        "Understanding and Debugging Memory Issues: The automatic nature of memory management can make it challenging to understand and debug memory-related issues like high memory usage or unexpected memory growth. Profiling tools become essential to identify memory hotspots and potential leaks.\n",
        "\n",
        "Global Interpreter Lock (GIL) and Concurrency: In CPython, the Global Interpreter Lock (GIL) ensures that only one thread can execute Python bytecode at a time. While the GIL simplifies memory management by preventing race conditions in shared memory, it can limit the benefits of multi-threading for CPU-bound tasks, as concurrent execution of Python code is not truly parallel."
      ],
      "metadata": {
        "id": "5_FKY0Hv-sc3"
      }
    },
    {
      "cell_type": "markdown",
      "source": [
        "Q24.How do you raise an exception manually in Python?\n",
        "\n",
        "- The raise keyword immediately stops the normal execution flow and raises the specified exception.\n",
        "\n",
        "You can include an optional error message string when raising an exception, which provides more context about the error.\n",
        "\n",
        "Exceptions should be handled using try...except blocks to prevent program termination and implement appropriate error recovery or reporting."
      ],
      "metadata": {
        "id": "MMDgEOkG_S2O"
      }
    },
    {
      "cell_type": "markdown",
      "source": [
        "Q25.Why is it important to use multithreading in certain applications?\n",
        "\n",
        "-  Multithreading is important in certain applications to improve performance and responsiveness by allowing simultaneous execution of tasks, maximize resource utilization by taking advantage of multi-core processors, enhance scalability for growing workloads, and enable asynchronous processing for I/O-bound operations."
      ],
      "metadata": {
        "id": "9yZb79aT_tyW"
      }
    },
    {
      "cell_type": "code",
      "source": [
        "#Q1.How can you open a file for writing in Python and write a string to it?\n",
        "\n",
        "# Open a file for writing (this will create the file if it doesn't exist,\n",
        "# and overwrite it if it does)\n",
        "with open(\"example.txt\", \"w\") as file:\n",
        "    file.write(\"Hello, world!\")\n"
      ],
      "metadata": {
        "id": "Wem1GaXIAOkD"
      },
      "execution_count": null,
      "outputs": []
    },
    {
      "cell_type": "code",
      "source": [
        "#Q2.Write a Python program to read the contents of a file and print each line.\n",
        "\n",
        "# Open the file in read mode\n",
        "with open(\"example.txt\", \"r\") as file:\n",
        "    # Iterate over each line in the file\n",
        "    for line in file:\n",
        "        print(line.strip())  # strip() removes the newline character\n"
      ],
      "metadata": {
        "id": "fsA10SR4AvQf"
      },
      "execution_count": null,
      "outputs": []
    },
    {
      "cell_type": "code",
      "source": [
        "#Q3.How would you handle a case where the file doesn't exist while trying to open it for reading?\n",
        "\n",
        "filename = \"example.txt\"\n",
        "\n",
        "try:\n",
        "    with open(filename, \"r\") as file:\n",
        "        for line in file:\n",
        "            print(line.strip())\n",
        "except FileNotFoundError:\n",
        "    print(f\"Error: The file '{filename}' was not found.\")\n"
      ],
      "metadata": {
        "id": "G2claO29BEf2"
      },
      "execution_count": null,
      "outputs": []
    },
    {
      "cell_type": "code",
      "source": [
        "#Q4.Write a Python script that reads from one file and writes its content to another file.\n",
        "# Define source and destination file names\n",
        "source_file = \"input.txt\"\n",
        "destination_file = \"output.txt\"\n",
        "\n",
        "try:\n",
        "    # Open the source file for reading\n",
        "    with open(source_file, \"r\") as infile:\n",
        "        # Read all content\n",
        "        content = infile.read()\n",
        "\n",
        "    # Open the destination file for writing\n",
        "    with open(destination_file, \"w\") as outfile:\n",
        "        outfile.write(content)\n",
        "\n",
        "    print(f\"Contents of '{source_file}' copied to '{destination_file}'.\")\n",
        "\n",
        "except FileNotFoundError:\n",
        "    print(f\"Error: The file '{source_file}' was not found.\")\n",
        "except PermissionError:\n",
        "    print(f\"Error: You don't have permission to access one of the files.\")\n",
        "except Exception as e:\n",
        "    print(f\"An unexpected error occurred: {e}\")\n"
      ],
      "metadata": {
        "id": "15ddF8FSBix5"
      },
      "execution_count": null,
      "outputs": []
    },
    {
      "cell_type": "code",
      "source": [
        "#Q5.How would you catch and handle division by zero error in Python?\n",
        "\n",
        "try:\n",
        "    numerator = 10\n",
        "    denominator = 0\n",
        "    result = numerator / denominator\n",
        "    print(\"Result:\", result)\n",
        "except ZeroDivisionError:\n",
        "    print(\"Error: Cannot divide by zero.\")\n"
      ],
      "metadata": {
        "id": "HQfDyRGFB01l"
      },
      "execution_count": null,
      "outputs": []
    },
    {
      "cell_type": "code",
      "source": [
        "#Q6.Write a Python program that logs an error message to a log file when a division by zero exception occurs.\n",
        "\n",
        "import logging\n",
        "\n",
        "# Configure logging\n",
        "logging.basicConfig(\n",
        "    filename=\"error.log\",        # Log file name\n",
        "    level=logging.ERROR,         # Log only errors and above\n",
        "    format=\"%(asctime)s - %(levelname)s - %(message)s\"\n",
        ")\n",
        "\n",
        "def safe_divide(a, b):\n",
        "    try:\n",
        "        return a / b\n",
        "    except ZeroDivisionError:\n",
        "        logging.error(\"Division by zero attempted. a=%s, b=%s\", a, b)\n",
        "        return None\n",
        "\n",
        "# Example usage\n",
        "result = safe_divide(10, 0)\n",
        "\n",
        "if result is None:\n",
        "    print(\"An error occurred. Check error.log for details.\")\n"
      ],
      "metadata": {
        "id": "lRA0dOcRCGua"
      },
      "execution_count": null,
      "outputs": []
    },
    {
      "cell_type": "code",
      "source": [
        "#Q7.How do you log information at different levels (INFO, ERROR, WARNING) in Python using the logging module?\n",
        "\n",
        "import logging\n",
        "\n",
        "# Configure logging\n",
        "logging.basicConfig(\n",
        "    filename=\"app.log\",              # Log file name\n",
        "    level=logging.DEBUG,             # Capture all levels DEBUG and above\n",
        "    format=\"%(asctime)s - %(levelname)s - %(message)s\"\n",
        ")\n",
        "\n",
        "# Logging at different levels\n",
        "logging.debug(\"This is a debug message (useful for developers).\")\n",
        "logging.info(\"This is an info message (general runtime information).\")\n",
        "logging.warning(\"This is a warning message (something unexpected, but not fatal).\")\n",
        "logging.error(\"This is an error message (a serious issue that needs attention).\")\n",
        "logging.critical(\"This is a critical message (severe error, program may not continue).\")\n"
      ],
      "metadata": {
        "id": "HvEKOVMmC8l1"
      },
      "execution_count": null,
      "outputs": []
    },
    {
      "cell_type": "code",
      "source": [
        "#Q8.Write a program to handle a file opening error using exception handling.\n",
        "\n",
        "filename = \"data.txt\"  # File you want to open\n",
        "\n",
        "try:\n",
        "    with open(filename, \"r\") as file:\n",
        "        content = file.read()\n",
        "        print(\"File contents:\")\n",
        "        print(content)\n",
        "except FileNotFoundError:\n",
        "    print(f\"Error: The file '{filename}' was not found.\")\n",
        "except PermissionError:\n",
        "    print(f\"Error: You don’t have permission to open '{filename}'.\")\n",
        "except Exception as e:\n",
        "    print(f\"An unexpected error occurred: {e}\")\n"
      ],
      "metadata": {
        "id": "996dK99vDncu"
      },
      "execution_count": null,
      "outputs": []
    },
    {
      "cell_type": "code",
      "source": [
        "#Q9.How can you read a file line by line and store its content in a list in Python?\n",
        "\n",
        "filename = \"example.txt\"\n",
        "\n",
        "with open(filename, \"r\") as file:\n",
        "    lines = file.readlines()  # Reads all lines into a list\n",
        "\n",
        "# Remove newline characters\n",
        "lines = [line.strip() for line in lines]\n",
        "\n",
        "print(lines)\n"
      ],
      "metadata": {
        "id": "UqKzE_eAEAX3"
      },
      "execution_count": null,
      "outputs": []
    },
    {
      "cell_type": "code",
      "source": [
        "#Q10.How can you append data to an existing file in Python?\n",
        "\n",
        "# Open the file in append mode\n",
        "with open(\"example.txt\", \"a\") as file:\n",
        "    file.write(\"This line will be added at the end of the file.\\n\")\n"
      ],
      "metadata": {
        "id": "4o-oT5nkEWyT"
      },
      "execution_count": null,
      "outputs": []
    },
    {
      "cell_type": "code",
      "source": [
        "#Q11.Write a Python program that uses a try-except block to handle an error when attempting to access a dictionary key that doesn't exist.\n",
        "\n",
        "# Sample dictionary\n",
        "person = {\n",
        "    \"name\": \"Suyash\",\n",
        "    \"age\": 25\n",
        "}\n",
        "\n",
        "try:\n",
        "    # Attempt to access a key that might not exist\n",
        "    print(\"Address:\", person[\"address\"])\n",
        "except KeyError:\n",
        "    print(\"Error: The key 'address' does not exist in the dictionary.\")\n"
      ],
      "metadata": {
        "id": "C2vNEYIrE0Ot"
      },
      "execution_count": null,
      "outputs": []
    },
    {
      "cell_type": "code",
      "source": [
        "#Q12.Write a program that demonstrates using multiple except blocks to handle different types of exceptions.\n",
        "\n",
        "try:\n",
        "    # Example inputs\n",
        "    numerator = int(input(\"Enter numerator: \"))\n",
        "    denominator = int(input(\"Enter denominator: \"))\n",
        "\n",
        "    # Attempt division\n",
        "    result = numerator / denominator\n",
        "    print(\"Result:\", result)\n",
        "\n",
        "    # Attempt to access a dictionary key\n",
        "    data = {\"name\": \"Suyash\"}\n",
        "    print(\"Age:\", data[\"age\"])\n",
        "\n",
        "except ZeroDivisionError:\n",
        "    print(\"Error: Cannot divide by zero.\")\n",
        "except ValueError:\n",
        "    print(\"Error: Invalid input. Please enter a number.\")\n",
        "except KeyError:\n",
        "    print(\"Error: The requested key does not exist in the dictionary.\")\n",
        "except Exception as e:\n",
        "    print(f\"An unexpected error occurred: {e}\")\n"
      ],
      "metadata": {
        "id": "FdX_3UgqFTHk"
      },
      "execution_count": null,
      "outputs": []
    },
    {
      "cell_type": "code",
      "source": [
        "#Q13.How would you check if a file exists before attempting to read it in Python?\n",
        "\n",
        "import os\n",
        "\n",
        "filename = \"example.txt\"\n",
        "\n",
        "if os.path.exists(filename):\n",
        "    with open(filename, \"r\") as file:\n",
        "        content = file.read()\n",
        "        print(content)\n",
        "else:\n",
        "    print(f\"The file '{filename}' does not exist.\")\n"
      ],
      "metadata": {
        "id": "ykYMihgJFn92"
      },
      "execution_count": null,
      "outputs": []
    },
    {
      "cell_type": "code",
      "source": [
        "#Q14.Write a program that uses the logging module to log both informational and error messages.\n",
        "\n",
        "import logging\n",
        "\n",
        "# Configure logging\n",
        "logging.basicConfig(\n",
        "    filename=\"app.log\",               # Log file name\n",
        "    level=logging.DEBUG,              # Capture all levels DEBUG and above\n",
        "    format=\"%(asctime)s - %(levelname)s - %(message)s\"\n",
        ")\n",
        "\n",
        "# Log an informational message\n",
        "logging.info(\"Program started successfully.\")\n",
        "\n",
        "try:\n",
        "    # Example operation\n",
        "    numerator = 10\n",
        "    denominator = 0\n",
        "    result = numerator / denominator\n",
        "    logging.info(f\"Division result: {result}\")\n",
        "except ZeroDivisionError:\n",
        "    logging.error(\"Division by zero attempted.\")\n",
        "except Exception as e:\n",
        "    logging.error(f\"An unexpected error occurred: {e}\")\n",
        "\n",
        "# Log another informational message\n",
        "logging.info(\"Program finished.\")\n"
      ],
      "metadata": {
        "id": "J12SLgRYGD1n"
      },
      "execution_count": null,
      "outputs": []
    },
    {
      "cell_type": "code",
      "source": [
        "#Q15.Write a Python program that prints the content of a file and handles the case when the file is empty.\n",
        "\n",
        "filename = \"example.txt\"\n",
        "\n",
        "try:\n",
        "    with open(filename, \"r\") as file:\n",
        "        content = file.read()\n",
        "        if content:  # Checks if the file is not empty\n",
        "            print(\"File contents:\")\n",
        "            print(content)\n",
        "        else:\n",
        "            print(f\"The file '{filename}' is empty.\")\n",
        "except FileNotFoundError:\n",
        "    print(f\"Error: The file '{filename}' does not exist.\")\n",
        "except PermissionError:\n",
        "    print(f\"Error: You do not have permission to read '{filename}'.\")\n",
        "except Exception as e:\n",
        "    print(f\"An unexpected error occurred: {e}\")\n"
      ],
      "metadata": {
        "id": "e03fGF8BGZi3"
      },
      "execution_count": null,
      "outputs": []
    },
    {
      "cell_type": "code",
      "source": [
        "#Q16.Demonstrate how to use memory profiling to check the memory usage of a small program.\n",
        "\n",
        "from memory_profiler import profile\n",
        "\n",
        "@profile\n",
        "def create_list():\n",
        "    # Create a list with 1 million numbers\n",
        "    numbers = [i for i in range(10**6)]\n",
        "    print(\"List created\")\n",
        "    return numbers\n",
        "\n",
        "if __name__ == \"__main__\":\n",
        "    create_list()\n"
      ],
      "metadata": {
        "id": "iszVCUsNG42_"
      },
      "execution_count": null,
      "outputs": []
    },
    {
      "cell_type": "code",
      "source": [
        "#Q17.Write a Python program to create and write a list of numbers to a file, one number per line.\n",
        "\n",
        "# List of numbers\n",
        "numbers = [1, 2, 3, 4, 5, 6, 7, 8, 9, 10]\n",
        "\n",
        "# Open a file in write mode\n",
        "with open(\"numbers.txt\", \"w\") as file:\n",
        "    for number in numbers:\n",
        "        file.write(f\"{number}\\n\")  # Write each number on a new line\n",
        "\n",
        "print(\"Numbers have been written to numbers.txt\")\n"
      ],
      "metadata": {
        "id": "pJLyvd-3Ha-E"
      },
      "execution_count": null,
      "outputs": []
    },
    {
      "cell_type": "code",
      "source": [
        "#Q18.How would you implement a basic logging setup that logs to a file with rotation after 1MB?\n",
        "\n",
        "import logging\n",
        "from logging.handlers import RotatingFileHandler\n",
        "\n",
        "# Create a logger\n",
        "logger = logging.getLogger(\"MyLogger\")\n",
        "logger.setLevel(logging.DEBUG)  # Capture all levels DEBUG and above\n",
        "\n",
        "# Create a rotating file handler\n",
        "handler = RotatingFileHandler(\n",
        "    \"app.log\",       # Log file name\n",
        "    maxBytes=1_000_000,  # 1 MB\n",
        "    backupCount=3        # Keep up to 3 backup files\n",
        ")\n",
        "\n",
        "# Create a log format\n",
        "formatter = logging.Formatter(\"%(asctime)s - %(levelname)s - %(message)s\")\n",
        "handler.setFormatter(formatter)\n",
        "\n",
        "# Add the handler to the logger\n",
        "logger.addHandler(handler)\n",
        "\n",
        "# Example logging\n",
        "logger.info(\"Program started\")\n",
        "for i in range(10000):\n",
        "    logger.debug(f\"Processing item {i}\")\n",
        "logger.error(\"An example error\")\n",
        "logger.info(\"Program finished\")\n"
      ],
      "metadata": {
        "id": "72a_OuEzHwY9"
      },
      "execution_count": null,
      "outputs": []
    },
    {
      "cell_type": "code",
      "source": [
        "#Q19.Write a program that handles both IndexError and KeyError using a try-except block.\n",
        "\n",
        "def handle_errors():\n",
        "    my_list = [1, 2, 3]\n",
        "    my_dict = {\"a\": 10, \"b\": 20}\n",
        "\n",
        "    try:\n",
        "        # Trying to access an invalid index\n",
        "        print(\"List item:\", my_list[5])\n",
        "\n",
        "        # Trying to access a non-existing dictionary key\n",
        "        print(\"Dictionary value:\", my_dict[\"c\"])\n",
        "\n",
        "    except IndexError as e:\n",
        "        print(\"IndexError caught:\", e)\n",
        "\n",
        "    except KeyError as e:\n",
        "        print(\"KeyError caught:\", e)\n",
        "\n",
        "    finally:\n",
        "        print(\"Execution finished.\")\n",
        "\n",
        "# Run the function\n",
        "handle_errors()\n"
      ],
      "metadata": {
        "id": "i6mMFbbcH8JV"
      },
      "execution_count": null,
      "outputs": []
    },
    {
      "cell_type": "code",
      "source": [
        "#Q20.How would you open a file and read its contents using a context manager in Python?\n",
        "\n",
        "def read_file(filename):\n",
        "    try:\n",
        "        with open(filename, \"r\") as file:  # \"r\" means read mode\n",
        "            contents = file.read()\n",
        "            print(\"File contents:\\n\")\n",
        "            print(contents)\n",
        "    except FileNotFoundError:\n",
        "        print(f\"Error: The file '{filename}' was not found.\")\n",
        "    except IOError:\n",
        "        print(f\"Error: Could not read the file '{filename}'.\")\n",
        "\n",
        "# Example usage\n",
        "read_file(\"example.txt\")\n"
      ],
      "metadata": {
        "id": "sHDpdh1S0Rma"
      },
      "execution_count": null,
      "outputs": []
    },
    {
      "cell_type": "code",
      "source": [
        "#Q21.Write a Python program that reads a file and prints the number of occurrences of a specific word.\n",
        "\n",
        "def count_word_occurrences(filename, word):\n",
        "    try:\n",
        "        with open(filename, \"r\") as file:\n",
        "            contents = file.read().lower()  # convert to lowercase for case-insensitive search\n",
        "            word = word.lower()\n",
        "            count = contents.split().count(word)\n",
        "            print(f\"The word '{word}' occurs {count} times in '{filename}'.\")\n",
        "    except FileNotFoundError:\n",
        "        print(f\"Error: The file '{filename}' was not found.\")\n",
        "    except IOError:\n",
        "        print(f\"Error: Could not read the file '{filename}'.\")\n",
        "\n",
        "\n",
        "# Example usage\n",
        "filename = \"example.txt\"\n",
        "word = \"python\"\n",
        "count_word_occurrences(filename, word)\n"
      ],
      "metadata": {
        "id": "OGriTJF50grq"
      },
      "execution_count": null,
      "outputs": []
    },
    {
      "cell_type": "code",
      "source": [
        "#Q22.How can you check if a file is empty before attempting to read its contents?\n",
        "\n",
        "import os\n",
        "\n",
        "def is_file_empty(filename):\n",
        "    try:\n",
        "        if os.path.getsize(filename) == 0:\n",
        "            print(f\"The file '{filename}' is empty.\")\n",
        "        else:\n",
        "            with open(filename, \"r\") as file:\n",
        "                contents = file.read()\n",
        "                print(\"File contents:\\n\", contents)\n",
        "    except FileNotFoundError:\n",
        "        print(f\"Error: The file '{filename}' was not found.\")\n"
      ],
      "metadata": {
        "id": "L0QEhkhS00S4"
      },
      "execution_count": null,
      "outputs": []
    },
    {
      "cell_type": "code",
      "source": [
        "#Q23.Write a Python program that writes to a log file when an error occurs during file handling.\n",
        "\n",
        "import logging\n",
        "\n",
        "# Configure logging\n",
        "logging.basicConfig(\n",
        "    filename=\"error_log.txt\",   # log file name\n",
        "    level=logging.ERROR,        # only log errors and above\n",
        "    format=\"%(asctime)s - %(levelname)s - %(message)s\"\n",
        ")\n",
        "\n",
        "def read_file(filename):\n",
        "    try:\n",
        "        with open(filename, \"r\") as file:\n",
        "            contents = file.read()\n",
        "            print(\"File contents:\\n\", contents)\n",
        "    except FileNotFoundError as e:\n",
        "        print(f\"Error: The file '{filename}' was not found.\")\n",
        "        logging.error(f\"FileNotFoundError: {e}\")\n",
        "    except IOError as e:\n",
        "        print(f\"Error: Could not read the file '{filename}'.\")\n",
        "        logging.error(f\"IOError: {e}\")\n",
        "    except Exception as e:\n",
        "        print(\"An unexpected error occurred:\", e)\n",
        "        logging.error(f\"Unexpected error: {e}\")\n",
        "\n",
        "# Example usage\n",
        "read_file(\"example.txt\")\n"
      ],
      "metadata": {
        "id": "e_rawLp21D-s"
      },
      "execution_count": null,
      "outputs": []
    }
  ]
}